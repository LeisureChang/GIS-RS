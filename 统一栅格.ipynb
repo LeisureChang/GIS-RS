{
 "cells": [
  {
   "cell_type": "markdown",
   "id": "ace4cf7b",
   "metadata": {},
   "source": [
    "### 写在前面"
   ]
  },
  {
   "cell_type": "code",
   "execution_count": null,
   "id": "47d9ab1f",
   "metadata": {},
   "outputs": [],
   "source": [
    "'''\n",
    "在使用随机森林等机器学习算法预测土壤属性的过程中，首先需要将所有栅格变量对齐（坐标系、分辨率、范围、行数、列数等），\n",
    "然后，需要为多个对齐的栅格创建堆栈（堆叠或者stack），这样才能进行最后的预测成图。\n",
    "但是，使用ArcMap等软件进行操作比较麻烦，于是产生了写一个Python脚本的想法。\n",
    "\n",
    "时间：2024年04月28日 19:58:49\n",
    "地点：海南海口\n",
    "'''"
   ]
  },
  {
   "cell_type": "markdown",
   "id": "83aaff86",
   "metadata": {},
   "source": [
    "### 思路"
   ]
  },
  {
   "cell_type": "code",
   "execution_count": null,
   "id": "488f7fd6",
   "metadata": {},
   "outputs": [],
   "source": [
    "'''\n",
    "1.首先，检查不同栅格的坐标系，如有不同，将坐标系统一；\n",
    "2.其次，将所有栅格重采样为目标分辨率；\n",
    "3.然后，统一Extent（四个点）\n",
    "3.然后，获取所有栅格相交的部分，制作掩膜，进行裁剪；\n",
    "4.最后，处理异常值\n",
    "'''"
   ]
  },
  {
   "cell_type": "code",
   "execution_count": 1,
   "id": "648faea5",
   "metadata": {
    "ExecuteTime": {
     "end_time": "2024-04-30T04:10:44.949323100Z",
     "start_time": "2024-04-30T04:10:43.497075500Z"
    }
   },
   "outputs": [],
   "source": [
    "import arcpy\n",
    "from arcpy import env\n",
    "from arcpy.sa import *\n",
    "import os"
   ]
  },
  {
   "cell_type": "markdown",
   "id": "3ea0549c",
   "metadata": {},
   "source": [
    "### 对齐之前探索数据"
   ]
  },
  {
   "cell_type": "code",
   "execution_count": 2,
   "id": "16023086",
   "metadata": {
    "ExecuteTime": {
     "end_time": "2024-04-30T04:10:52.999243600Z",
     "start_time": "2024-04-30T04:10:52.983243900Z"
    }
   },
   "outputs": [
    {
     "name": "stdout",
     "output_type": "stream",
     "text": [
      "行数为3457，列数为 2823, 北为2211854.19925067, 南为2142750.25877813, 东为365817.979186296, 西为422248.532832227, 分辨率为19.9895691271452*19.9895691271452\n",
      "行数为7017，列数为 6079, 北为2212203.107, 南为2142423.336404, 东为365296.243, 西为422554.234578, 分辨率为9.418982*9.94438799999999\n",
      "行数为3456，列数为 2823, 北为2211854.19925067, 南为2142750.13033741, 东为365817.979186296, 西为422264.966032977, 分辨率为19.9953903105492*19.9953903105492\n",
      "行数为3457，列数为 2823, 北为2211854.19925067, 南为2142750.25877813, 东为365817.979186296, 西为422248.532832227, 分辨率为19.9895691271452*19.9895691271452\n",
      "行数为3460，列数为 2822, 北为2211950, 南为2142750, 东为365813.15625, 西为422253.15625, 分辨率为20*20\n",
      "行数为3460，列数为 2822, 北为2211950, 南为2142750, 东为365813.15625, 西为422253.15625, 分辨率为20*20\n",
      "行数为3457，列数为 2823, 北为2211854.19925067, 南为2142750.25877813, 东为365817.979186296, 西为422248.532832227, 分辨率为19.9895691271452*19.9895691271452\n",
      "行数为3457，列数为 2823, 北为2211862.517, 南为2142722.517, 东为365817.68, 西为422277.68, 分辨率为20*20\n",
      "行数为7017，列数为 6079, 北为2212198.903, 南为2142419.132404, 东为365296.633, 西为422554.636736, 分辨率为9.418984*9.94438799999999\n",
      "行数为7017，列数为 6080, 北为2212200.345, 南为2142420.574404, 东为365288.267, 西为422555.68364, 分辨率为9.418983*9.94438799999999\n",
      "行数为3460，列数为 2822, 北为2211950, 南为2142750, 东为365813.15625, 西为422253.15625, 分辨率为20*20\n",
      "行数为3460，列数为 2822, 北为2211950, 南为2142750, 东为365813.15625, 西为422253.15625, 分辨率为20*20\n",
      "行数为3460，列数为 2822, 北为2211950, 南为2142750, 东为365813.15625, 西为422253.15625, 分辨率为20*20\n",
      "行数为3460，列数为 2822, 北为2211950, 南为2142750, 东为365813.15625, 西为422253.15625, 分辨率为20*20\n",
      "行数为3460，列数为 2822, 北为2211950, 南为2142750, 东为365813.15625, 西为422253.15625, 分辨率为20*20\n",
      "行数为7017，列数为 6079, 北为2212200.013, 南为2142420.242404, 东为365289.501, 西为422547.504736, 分辨率为9.418984*9.94438799999999\n",
      "行数为7017，列数为 6079, 北为2212198.903, 南为2142419.132404, 东为365296.633, 西为422554.636736, 分辨率为9.418984*9.94438799999999\n",
      "行数为7017，列数为 6080, 北为2212200.345, 南为2142420.574404, 东为365288.267, 西为422555.68364, 分辨率为9.418983*9.94438799999999\n",
      "行数为7017，列数为 6079, 北为2212200.013, 南为2142420.242404, 东为365289.501, 西为422547.504736, 分辨率为9.418984*9.94438799999999\n",
      "行数为6920，列数为 5644, 北为2211950, 南为2142750, 东为365813.15625, 西为422253.15625, 分辨率为10*10\n",
      "行数为6920，列数为 5644, 北为2211950, 南为2142750, 东为365813.15625, 西为422253.15625, 分辨率为10*10\n",
      "行数为6920，列数为 5644, 北为2211950, 南为2142750, 东为365813.15625, 西为422253.15625, 分辨率为10*10\n"
     ]
    }
   ],
   "source": [
    "# 设置环境\n",
    "env.workspace =  r\"F:\\arcpy_resample\\ToResample\" \n",
    "env.overwriteOutput = True\n",
    "\n",
    "# 读取文件夹内的所有tif文件\n",
    "raster_files = arcpy.ListRasters(\"*\", \"TIF\")\n",
    "\n",
    "for raster in raster_files:\n",
    "    columns = arcpy.management.GetRasterProperties(raster,\"COLUMNCOUNT\" )\n",
    "    rows = arcpy.management.GetRasterProperties(raster,\"ROWCOUNT\" )\n",
    "    tops = arcpy.management.GetRasterProperties(raster,\"TOP\" )\n",
    "    bottoms = arcpy.management.GetRasterProperties(raster,\"BOTTOM\" )\n",
    "    lefts = arcpy.management.GetRasterProperties(raster,\"LEFT\" )\n",
    "    rights = arcpy.management.GetRasterProperties(raster,\"RIGHT\" )\n",
    "    res_xs = arcpy.management.GetRasterProperties(raster,\"CELLSIZEX\" )\n",
    "    res_ys = arcpy.management.GetRasterProperties(raster,\"CELLSIZEY\" )\n",
    "    #print(f\"栅格 {raster}\")\n",
    "    print(f\"行数为{ rows}，列数为 {columns}, 北为{tops}, 南为{bottoms}, 东为{lefts}, 西为{rights}, 分辨率为{res_xs}*{res_ys}\")"
   ]
  },
  {
   "cell_type": "markdown",
   "id": "4ec958d0",
   "metadata": {},
   "source": [
    "### 检查坐标系是否统一"
   ]
  },
  {
   "cell_type": "code",
   "execution_count": 3,
   "id": "27cb2d5a",
   "metadata": {},
   "outputs": [
    {
     "name": "stdout",
     "output_type": "stream",
     "text": [
      "True\n"
     ]
    }
   ],
   "source": [
    "# 检查文件夹下所有栅格的坐标系是否统一\n",
    "rasters_crs = []\n",
    "for raster_file in raster_files:\n",
    "    raster_crs = arcpy.Describe(raster_file).spatialReference.name\n",
    "    rasters_crs.append(raster_crs)\n",
    "def are_all_crs_same(lst):\n",
    "    return all(crs == lst[0] for crs in lst)\n",
    "print(are_all_crs_same(rasters_crs))\n",
    "# print(rasters_crs)"
   ]
  },
  {
   "cell_type": "markdown",
   "id": "47caed36",
   "metadata": {},
   "source": [
    "### 重采样"
   ]
  },
  {
   "cell_type": "code",
   "execution_count": 4,
   "id": "6d15cd09",
   "metadata": {
    "ExecuteTime": {
     "end_time": "2024-04-30T04:10:57.134966400Z",
     "start_time": "2024-04-30T04:10:56.877416200Z"
    }
   },
   "outputs": [
    {
     "name": "stdout",
     "output_type": "stream",
     "text": [
      "Done!\n",
      "19.743176460266113 秒\n"
     ]
    }
   ],
   "source": [
    "# 将所有栅格重采样到目标分辨率\n",
    "import time\n",
    "start = time.time()\n",
    "\n",
    "env.workspace = r\"F:\\arcpy_resample\\ToResample\" \n",
    "env.overwriteOutput = True\n",
    "\n",
    "resampled_files =  r\"F:\\arcpy_resample\\resampled\" \n",
    "\n",
    "for raster_file in raster_files:\n",
    "    # 构建输出文件的路径\n",
    "    output_file = os.path.join(resampled_files, os.path.splitext(raster_file)[0] + \"_rsp.tif\")\n",
    "    # 执行重采样\n",
    "    arcpy.management.Resample(os.path.join(arcpy.env.workspace, raster_file),\n",
    "                                                    output_file, \"20 20\", \"BILINEAR\")\n",
    "print(\"Done!\")\n",
    "print((time.time() - start), \"秒\")"
   ]
  },
  {
   "cell_type": "code",
   "execution_count": 9,
   "id": "a2df231e",
   "metadata": {},
   "outputs": [
    {
     "name": "stdout",
     "output_type": "stream",
     "text": [
      "栅格为Clay_Index_rsp.tif, 行数为3455，列数为 2822, 北为2211854.19925067, 南为2142754.19925067, 东为365817.979186296, 西为422257.979186296, 分辨率为20*20\n",
      "\n",
      "栅格为CR1022_NEW_rsp.tif, 行数为3489，列数为 2863, 北为2212203.107, 南为2142423.107, 东为365296.243, 西为422556.243, 分辨率为20*20\n",
      "\n",
      "栅格为FlowPathLength_rsp.tif, 行数为3455，列数为 2822, 北为2211854.19925067, 南为2142754.19925067, 东为365817.979186296, 西为422257.979186296, 分辨率为20*20\n",
      "\n",
      "栅格为GRVI_rsp.tif, 行数为3455，列数为 2822, 北为2211854.19925067, 南为2142754.19925067, 东为365817.979186296, 西为422257.979186296, 分辨率为20*20\n",
      "\n",
      "栅格为LS_Factor_rsp.tif, 行数为3460，列数为 2822, 北为2211950, 南为2142750, 东为365813.15625, 西为422253.15625, 分辨率为20*20\n",
      "\n",
      "栅格为MRRTF_rsp.tif, 行数为3460，列数为 2822, 北为2211950, 南为2142750, 东为365813.15625, 西为422253.15625, 分辨率为20*20\n",
      "\n",
      "栅格为NDMI_rsp.tif, 行数为3455，列数为 2822, 北为2211854.19925067, 南为2142754.19925067, 东为365817.979186296, 西为422257.979186296, 分辨率为20*20\n",
      "\n",
      "栅格为RVI1209_rsp.tif, 行数为3489，列数为 2863, 北为2212198.903, 南为2142418.903, 东为365296.633, 西为422556.633, 分辨率为20*20\n",
      "\n",
      "栅格为RVI1221_rsp.tif, 行数为3489，列数为 2863, 北为2212200.345, 南为2142420.345, 东为365288.267, 西为422548.267, 分辨率为20*20\n",
      "\n",
      "栅格为RVI_rsp.tif, 行数为3457，列数为 2823, 北为2211862.517, 南为2142722.517, 东为365817.68, 西为422277.68, 分辨率为20*20\n",
      "\n",
      "栅格为Slope_Height_rsp.tif, 行数为3460，列数为 2822, 北为2211950, 南为2142750, 东为365813.15625, 西为422253.15625, 分辨率为20*20\n",
      "\n",
      "栅格为Slope_rsp.tif, 行数为3460，列数为 2822, 北为2211950, 南为2142750, 东为365813.15625, 西为422253.15625, 分辨率为20*20\n",
      "\n",
      "栅格为TCI_Low_rsp.tif, 行数为3460，列数为 2822, 北为2211950, 南为2142750, 东为365813.15625, 西为422253.15625, 分辨率为20*20\n",
      "\n",
      "栅格为Valley_Depth_rsp.tif, 行数为3460，列数为 2822, 北为2211950, 南为2142750, 东为365813.15625, 西为422253.15625, 分辨率为20*20\n",
      "\n",
      "栅格为Vector_Terrain_Ruggedness(VRM)_rsp.tif, 行数为3460，列数为 2822, 北为2211950, 南为2142750, 东为365813.15625, 西为422253.15625, 分辨率为20*20\n",
      "\n",
      "栅格为VH20230102_rsp.tif, 行数为3489，列数为 2863, 北为2212200.013, 南为2142420.013, 东为365289.501, 西为422549.501, 分辨率为20*20\n",
      "\n",
      "栅格为VV20221209_NEW_rsp.tif, 行数为3489，列数为 2863, 北为2212198.903, 南为2142418.903, 东为365296.633, 西为422556.633, 分辨率为20*20\n",
      "\n",
      "栅格为VV20221221_NEW_rsp.tif, 行数为3489，列数为 2863, 北为2212200.345, 南为2142420.345, 东为365288.267, 西为422548.267, 分辨率为20*20\n",
      "\n",
      "栅格为VV20230102_NEW_rsp.tif, 行数为3489，列数为 2863, 北为2212200.013, 南为2142420.013, 东为365289.501, 西为422549.501, 分辨率为20*20\n",
      "\n",
      "栅格为砂粒_rsp.tif, 行数为3460，列数为 2822, 北为2211950, 南为2142750, 东为365813.15625, 西为422253.15625, 分辨率为20*20\n",
      "\n",
      "栅格为粉粒_rsp.tif, 行数为3460，列数为 2822, 北为2211950, 南为2142750, 东为365813.15625, 西为422253.15625, 分辨率为20*20\n",
      "\n",
      "栅格为黏粒_rsp.tif, 行数为3460，列数为 2822, 北为2211950, 南为2142750, 东为365813.15625, 西为422253.15625, 分辨率为20*20\n",
      "\n"
     ]
    }
   ],
   "source": [
    "# 读取重采样后的文件的行数和列数，找出模版栅格(行数列数最小)\n",
    "\n",
    "env.workspace = r\"F:\\arcpy_resample\\resampled\" \n",
    "env.overwriteOutput = True\n",
    "resampled_files = arcpy.ListRasters(\"*\", \"TIF\")\n",
    "\n",
    "for raster in resampled_files:\n",
    "    columns = arcpy.management.GetRasterProperties(raster,\"COLUMNCOUNT\" )\n",
    "    rows = arcpy.management.GetRasterProperties(raster,\"ROWCOUNT\" )\n",
    "    tops = arcpy.management.GetRasterProperties(raster,\"TOP\" )\n",
    "    bottoms = arcpy.management.GetRasterProperties(raster,\"BOTTOM\" )\n",
    "    lefts = arcpy.management.GetRasterProperties(raster,\"LEFT\" )\n",
    "    rights = arcpy.management.GetRasterProperties(raster,\"RIGHT\" )\n",
    "    res_xs = arcpy.management.GetRasterProperties(raster,\"CELLSIZEX\" )\n",
    "    res_ys = arcpy.management.GetRasterProperties(raster,\"CELLSIZEY\" )\n",
    "    \n",
    "    print(f\"栅格为{ raster}, 行数为{ rows}，列数为 {columns}, 北为{tops}, 南为{bottoms}, 东为{lefts}, 西为{rights}, 分辨率为{res_xs}*{res_ys}\", end = \"\\n\\n\")"
   ]
  },
  {
   "cell_type": "markdown",
   "id": "c9ad236a",
   "metadata": {},
   "source": [
    "### 对齐Extent"
   ]
  },
  {
   "cell_type": "code",
   "execution_count": 10,
   "id": "8cca8d4c",
   "metadata": {},
   "outputs": [
    {
     "name": "stdout",
     "output_type": "stream",
     "text": [
      "Done!\n",
      "17.798445224761963 秒\n"
     ]
    }
   ],
   "source": [
    "# 将重采样栅格的Extent对齐\n",
    "# 参考 https://mp.weixin.qq.com/s/LJAQFqf7aUmMzbuDYCJHxQ\n",
    "import time\n",
    "start = time.time()\n",
    "\n",
    "# 设置裁剪模版文件\n",
    "template_file = r\"F:\\arcpy_resample\\resampled\\GRVI_rsp.tif\"#行列数最小的栅格为模版\n",
    "\n",
    "arcpy.env.workspace =  r\"F:\\arcpy_resample\\resampled\" \n",
    "env.overwriteOutput = True\n",
    "\n",
    "resampled_files = arcpy.ListRasters(\"*\", \"TIF\")\n",
    "\n",
    "arcpy.env.snapRaster = template_file\n",
    "\n",
    "aligned_file = r\"F:\\arcpy_resample\\Aligned/\" \n",
    "for raster in resampled_files:\n",
    "    key_name = raster.split(\".tif\")[0] + \"_aligned.tif\"\n",
    "    arcpy.management.Clip(raster, \"#\", aligned_file + key_name, template_file , \"#\", \"#\", \"MAINTAIN_EXTENT\")\n",
    "    \n",
    "print(\"Done!\")\n",
    "print((time.time() - start), \"秒\")"
   ]
  },
  {
   "cell_type": "code",
   "execution_count": 11,
   "id": "1bbc1355",
   "metadata": {},
   "outputs": [
    {
     "name": "stdout",
     "output_type": "stream",
     "text": [
      "行数为3455，列数为 2822, 北为2211854.19925067, 南为2142754.19925067, 东为365817.979186296, 西为422257.979186296, 分辨率为20*20\n",
      "行数为3455，列数为 2822, 北为2211854.19925067, 南为2142754.19925067, 东为365817.979186296, 西为422257.979186296, 分辨率为20*20\n",
      "行数为3455，列数为 2822, 北为2211854.19925067, 南为2142754.19925067, 东为365817.979186296, 西为422257.979186296, 分辨率为20*20\n",
      "行数为3455，列数为 2822, 北为2211854.19925067, 南为2142754.19925067, 东为365817.979186296, 西为422257.979186296, 分辨率为20*20\n",
      "行数为3455，列数为 2822, 北为2211854.19925067, 南为2142754.19925067, 东为365817.979186296, 西为422257.979186296, 分辨率为20*20\n",
      "行数为3455，列数为 2822, 北为2211854.19925067, 南为2142754.19925067, 东为365817.979186296, 西为422257.979186296, 分辨率为20*20\n",
      "行数为3455，列数为 2822, 北为2211854.19925067, 南为2142754.19925067, 东为365817.979186296, 西为422257.979186296, 分辨率为20*20\n",
      "行数为3455，列数为 2822, 北为2211854.19925067, 南为2142754.19925067, 东为365817.979186296, 西为422257.979186296, 分辨率为20*20\n",
      "行数为3455，列数为 2822, 北为2211854.19925067, 南为2142754.19925067, 东为365817.979186296, 西为422257.979186296, 分辨率为20*20\n",
      "行数为3455，列数为 2822, 北为2211854.19925067, 南为2142754.19925067, 东为365817.979186296, 西为422257.979186296, 分辨率为20*20\n",
      "行数为3455，列数为 2822, 北为2211854.19925067, 南为2142754.19925067, 东为365817.979186296, 西为422257.979186296, 分辨率为20*20\n",
      "行数为3455，列数为 2822, 北为2211854.19925067, 南为2142754.19925067, 东为365817.979186296, 西为422257.979186296, 分辨率为20*20\n",
      "行数为3455，列数为 2822, 北为2211854.19925067, 南为2142754.19925067, 东为365817.979186296, 西为422257.979186296, 分辨率为20*20\n",
      "行数为3455，列数为 2822, 北为2211854.19925067, 南为2142754.19925067, 东为365817.979186296, 西为422257.979186296, 分辨率为20*20\n",
      "行数为3455，列数为 2822, 北为2211854.19925067, 南为2142754.19925067, 东为365817.979186296, 西为422257.979186296, 分辨率为20*20\n",
      "行数为3455，列数为 2822, 北为2211854.19925067, 南为2142754.19925067, 东为365817.979186296, 西为422257.979186296, 分辨率为20*20\n",
      "行数为3455，列数为 2822, 北为2211854.19925067, 南为2142754.19925067, 东为365817.979186296, 西为422257.979186296, 分辨率为20*20\n",
      "行数为3455，列数为 2822, 北为2211854.19925067, 南为2142754.19925067, 东为365817.979186296, 西为422257.979186296, 分辨率为20*20\n",
      "行数为3455，列数为 2822, 北为2211854.19925067, 南为2142754.19925067, 东为365817.979186296, 西为422257.979186296, 分辨率为20*20\n",
      "行数为3455，列数为 2822, 北为2211854.19925067, 南为2142754.19925067, 东为365817.979186296, 西为422257.979186296, 分辨率为20*20\n",
      "行数为3455，列数为 2822, 北为2211854.19925067, 南为2142754.19925067, 东为365817.979186296, 西为422257.979186296, 分辨率为20*20\n",
      "行数为3455，列数为 2822, 北为2211854.19925067, 南为2142754.19925067, 东为365817.979186296, 西为422257.979186296, 分辨率为20*20\n"
     ]
    }
   ],
   "source": [
    "# 重采样和对齐后，检查是否成功\n",
    "arcpy.env.workspace =  r\"F:\\arcpy_resample\\Aligned\" \n",
    "aligned_files = arcpy.ListRasters(\"*\", \"TIF\")\n",
    "\n",
    "for raster in aligned_files:\n",
    "    # Rows & Columns\n",
    "    column = arcpy.management.GetRasterProperties(raster,\"COLUMNCOUNT\" )\n",
    "    row = arcpy.management.GetRasterProperties(raster,\"ROWCOUNT\" )\n",
    "    # Extent\n",
    "    top = arcpy.management.GetRasterProperties(raster,\"TOP\" )\n",
    "    bottom = arcpy.management.GetRasterProperties(raster,\"BOTTOM\" )\n",
    "    left = arcpy.management.GetRasterProperties(raster,\"LEFT\" )\n",
    "    right = arcpy.management.GetRasterProperties(raster,\"RIGHT\" )\n",
    "    # Res\n",
    "    res_x = arcpy.management.GetRasterProperties(raster,\"CELLSIZEX\" )\n",
    "    res_y = arcpy.management.GetRasterProperties(raster,\"CELLSIZEY\" )\n",
    "    print(f\"行数为{ row}，列数为 {column}, 北为{top}, 南为{bottom}, 东为{left}, 西为{right}, 分辨率为{res_x}*{res_y}\")"
   ]
  },
  {
   "cell_type": "markdown",
   "id": "4063d6dc",
   "metadata": {},
   "source": [
    "虽然检查得到的行数和列数，范围都是相同的，但在ArcMap里面查看的时候却发现边缘还是有对不齐的情况，不知道为什么这样"
   ]
  },
  {
   "cell_type": "markdown",
   "id": "a9c00215",
   "metadata": {},
   "source": [
    "### 掩膜提取"
   ]
  },
  {
   "cell_type": "code",
   "execution_count": 12,
   "id": "3e81888a",
   "metadata": {},
   "outputs": [],
   "source": [
    "# 提取所有栅格的交集，作为掩膜\n",
    "env.workspace = r\"F:\\arcpy_resample\\Aligned\" \n",
    "env.overwriteOutput = True\n",
    "# 列出所有的栅格文件\n",
    "\n",
    "rasters = arcpy.ListRasters(\"*\", \"TIF\")\n",
    "# 构建 IsNull 表达式\n",
    "if rasters:\n",
    "    # 开始构建表达式，检查第一个栅格是否为空\n",
    "    expression = IsNull(Raster(rasters[0]))\n",
    "    \n",
    "    # 为列表中的其他栅格添加更多的 IsNull 检查\n",
    "    for raster in rasters[1:]:\n",
    "        expression |= IsNull(Raster(raster))\n",
    "\n",
    "    # 使用 SetNull 根据 expression 设置空值\n",
    "    result_raster = SetNull(expression, 1)\n",
    "\n",
    "    # 保存结果栅格\n",
    "    result_raster.save(r\"F:\\arcpy_resample\\Mask\\Clip_mask.tif\")\n",
    "else:\n",
    "    print(\"No rasters found in the workspace.\")"
   ]
  },
  {
   "cell_type": "markdown",
   "id": "6c137bd7",
   "metadata": {},
   "source": [
    "### 掩膜裁剪，对齐像元分布"
   ]
  },
  {
   "cell_type": "code",
   "execution_count": 13,
   "id": "1402e7f6",
   "metadata": {},
   "outputs": [
    {
     "name": "stdout",
     "output_type": "stream",
     "text": [
      "Done!\n",
      "12.597680568695068 秒\n"
     ]
    }
   ],
   "source": [
    "#最终将像元对齐\n",
    "import time\n",
    "start = time.time()\n",
    "\n",
    "# 设置工作环境和覆盖输出设置\n",
    "arcpy.env.workspace =  r\"F:\\arcpy_resample\\Aligned\"\n",
    "env.overwriteOutput = True\n",
    "\n",
    "# 设置裁剪模版文件和输出目录\n",
    "template_file = r\"F:\\arcpy_resample\\Mask\\Clip_mask.tif\"#行列数最小的栅格为模版\n",
    "masked_file = r\"F:\\arcpy_resample\\Aligned\\mask\" \n",
    "\n",
    "# 获取所有栅格文件\n",
    "rasters = arcpy.ListRasters(\"*\", \"TIF\")\n",
    "\n",
    "for raster in rasters:\n",
    "    key_name = raster.split(\".tif\")[0] + \"_masked.tif\"\n",
    "    outExtractByMask = ExtractByMask(raster, template_file )\n",
    "    out_path = masked_file + \"\\\\\" + key_name  # 构建完整输出路径\n",
    "    outExtractByMask.save(out_path)\n",
    "print(\"Done!\")\n",
    "print((time.time() - start), \"秒\")"
   ]
  },
  {
   "cell_type": "markdown",
   "id": "88edf56b",
   "metadata": {},
   "source": [
    "### 最终检查"
   ]
  },
  {
   "cell_type": "code",
   "execution_count": 14,
   "id": "1152d96c",
   "metadata": {},
   "outputs": [
    {
     "name": "stdout",
     "output_type": "stream",
     "text": [
      "行数为3455，列数为 2822, 北为2211854.19925067, 南为2142754.19925067, 东为365817.979186296, 西为422257.979186296, 分辨率为20*20\n",
      "行数为3455，列数为 2822, 北为2211854.19925067, 南为2142754.19925067, 东为365817.979186296, 西为422257.979186296, 分辨率为20*20\n",
      "行数为3455，列数为 2822, 北为2211854.19925067, 南为2142754.19925067, 东为365817.979186296, 西为422257.979186296, 分辨率为20*20\n",
      "行数为3455，列数为 2822, 北为2211854.19925067, 南为2142754.19925067, 东为365817.979186296, 西为422257.979186296, 分辨率为20*20\n",
      "行数为3455，列数为 2822, 北为2211854.19925067, 南为2142754.19925067, 东为365817.979186296, 西为422257.979186296, 分辨率为20*20\n",
      "行数为3455，列数为 2822, 北为2211854.19925067, 南为2142754.19925067, 东为365817.979186296, 西为422257.979186296, 分辨率为20*20\n",
      "行数为3455，列数为 2822, 北为2211854.19925067, 南为2142754.19925067, 东为365817.979186296, 西为422257.979186296, 分辨率为20*20\n",
      "行数为3455，列数为 2822, 北为2211854.19925067, 南为2142754.19925067, 东为365817.979186296, 西为422257.979186296, 分辨率为20*20\n",
      "行数为3455，列数为 2822, 北为2211854.19925067, 南为2142754.19925067, 东为365817.979186296, 西为422257.979186296, 分辨率为20*20\n",
      "行数为3455，列数为 2822, 北为2211854.19925067, 南为2142754.19925067, 东为365817.979186296, 西为422257.979186296, 分辨率为20*20\n",
      "行数为3455，列数为 2822, 北为2211854.19925067, 南为2142754.19925067, 东为365817.979186296, 西为422257.979186296, 分辨率为20*20\n",
      "行数为3455，列数为 2822, 北为2211854.19925067, 南为2142754.19925067, 东为365817.979186296, 西为422257.979186296, 分辨率为20*20\n",
      "行数为3455，列数为 2822, 北为2211854.19925067, 南为2142754.19925067, 东为365817.979186296, 西为422257.979186296, 分辨率为20*20\n",
      "行数为3455，列数为 2822, 北为2211854.19925067, 南为2142754.19925067, 东为365817.979186296, 西为422257.979186296, 分辨率为20*20\n",
      "行数为3455，列数为 2822, 北为2211854.19925067, 南为2142754.19925067, 东为365817.979186296, 西为422257.979186296, 分辨率为20*20\n",
      "行数为3455，列数为 2822, 北为2211854.19925067, 南为2142754.19925067, 东为365817.979186296, 西为422257.979186296, 分辨率为20*20\n",
      "行数为3455，列数为 2822, 北为2211854.19925067, 南为2142754.19925067, 东为365817.979186296, 西为422257.979186296, 分辨率为20*20\n",
      "行数为3455，列数为 2822, 北为2211854.19925067, 南为2142754.19925067, 东为365817.979186296, 西为422257.979186296, 分辨率为20*20\n",
      "行数为3455，列数为 2822, 北为2211854.19925067, 南为2142754.19925067, 东为365817.979186296, 西为422257.979186296, 分辨率为20*20\n",
      "行数为3455，列数为 2822, 北为2211854.19925067, 南为2142754.19925067, 东为365817.979186296, 西为422257.979186296, 分辨率为20*20\n",
      "行数为3455，列数为 2822, 北为2211854.19925067, 南为2142754.19925067, 东为365817.979186296, 西为422257.979186296, 分辨率为20*20\n",
      "行数为3455，列数为 2822, 北为2211854.19925067, 南为2142754.19925067, 东为365817.979186296, 西为422257.979186296, 分辨率为20*20\n"
     ]
    }
   ],
   "source": [
    "# 掩膜裁剪后，检查是否成功\n",
    "arcpy.env.workspace =   r\"F:\\arcpy_resample\\Aligned\\mask\" \n",
    "masked_files = arcpy.ListRasters(\"*\", \"TIF\")\n",
    "\n",
    "for raster in masked_files:\n",
    "    # Rows & Columns\n",
    "    column = arcpy.management.GetRasterProperties(raster,\"COLUMNCOUNT\" )\n",
    "    row = arcpy.management.GetRasterProperties(raster,\"ROWCOUNT\" )\n",
    "    # Extent\n",
    "    top = arcpy.management.GetRasterProperties(raster,\"TOP\" )\n",
    "    bottom = arcpy.management.GetRasterProperties(raster,\"BOTTOM\" )\n",
    "    left = arcpy.management.GetRasterProperties(raster,\"LEFT\" )\n",
    "    right = arcpy.management.GetRasterProperties(raster,\"RIGHT\" )\n",
    "    # Res\n",
    "    res_x = arcpy.management.GetRasterProperties(raster,\"CELLSIZEX\" )\n",
    "    res_y = arcpy.management.GetRasterProperties(raster,\"CELLSIZEY\" )\n",
    "    print(f\"行数为{ row}，列数为 {column}, 北为{top}, 南为{bottom}, 东为{left}, 西为{right}, 分辨率为{res_x}*{res_y}\")"
   ]
  },
  {
   "cell_type": "markdown",
   "id": "5671c7a0",
   "metadata": {},
   "source": [
    "经过检查（行数、列数、Extent、分辨率以及最重要的像元分布都对应上了，可以进行堆栈）\n",
    "\n",
    "总结：\n",
    "1.Extent是指栅格的最南最北、最东最西四个点的位置，不能表示每个像元的分布；\n",
    "2.栅格的对齐其实是指每个像元的对齐，只要每个像元大小固定，像元分布也对齐，那么行数、列数、Extent等也就自然而然对齐了；\n",
    "3.在研究之前，最好将研究区裁剪为矩形，等到最后一步再将得到的结果用研究区域行政区图裁剪，规则的矩形可以避免很多麻烦"
   ]
  }
 ],
 "metadata": {
  "kernelspec": {
   "display_name": "Python 3",
   "language": "python",
   "name": "python3"
  },
  "language_info": {
   "codemirror_mode": {
    "name": "ipython",
    "version": 3
   },
   "file_extension": ".py",
   "mimetype": "text/x-python",
   "name": "python",
   "nbconvert_exporter": "python",
   "pygments_lexer": "ipython3",
   "version": "3.9.11"
  }
 },
 "nbformat": 4,
 "nbformat_minor": 5
}
